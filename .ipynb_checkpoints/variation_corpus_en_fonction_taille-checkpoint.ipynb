{
 "cells": [
  {
   "cell_type": "code",
   "execution_count": 118,
   "id": "97b70027",
   "metadata": {},
   "outputs": [],
   "source": [
    "import matplotlib.pyplot as plt\n",
    "from Bio import Entrez # Accés à la base PubMed\n",
    "import pandas as pd # Manipulation des données\n",
    "import time\n",
    "from matplotlib.axis import Axis"
   ]
  },
  {
   "cell_type": "code",
   "execution_count": 119,
   "id": "a99c7dbf",
   "metadata": {},
   "outputs": [],
   "source": [
    "keywords = ['COVID-19', 'COVID-19 SARS-CoV-2', 'COVID-19 SARS-CoV-2 virus', 'COVID-19 SARS-CoV-2 virus also', 'COVID-19 SARS-CoV-2 virus also 2020', 'COVID-19 SARS-CoV-2 virus also 2020 cases', 'COVID-19 SARS-CoV-2 virus also 2020 cases people', 'COVID-19 SARS-CoV-2 virus also 2020 cases people March', 'COVID-19 SARS-CoV-2 virus also 2020 cases people March disease', 'COVID-19 SARS-CoV-2 virus also 2020 cases people March disease patients', 'COVID-19 SARS-CoV-2 virus also 2020 cases people March disease patients China', 'COVID-19 SARS-CoV-2 virus also 2020 cases people March disease patients China may', 'COVID-19 SARS-CoV-2 virus also 2020 cases people March disease patients China may hand', 'COVID-19 SARS-CoV-2 virus also 2020 cases people March disease patients China may hand symptoms', 'COVID-19 SARS-CoV-2 virus also 2020 cases people March disease patients China may hand symptoms outbreak']\n",
    "#keywords = ['silage', 'silage alfalfa', 'silage alfalfa Virginia', 'silage alfalfa Virginia fanpetals', 'silage alfalfa Virginia fanpetals higher', 'silage alfalfa Virginia fanpetals higher DM', 'silage alfalfa Virginia fanpetals higher DM CP', 'silage alfalfa Virginia fanpetals higher DM CP characterized', 'silage alfalfa Virginia fanpetals higher DM CP characterized digestibility', 'silage alfalfa Virginia fanpetals higher DM CP characterized digestibility The', 'silage alfalfa Virginia fanpetals higher DM CP characterized digestibility The voluntary', 'silage alfalfa Virginia fanpetals higher DM CP characterized digestibility The voluntary intake', 'silage alfalfa Virginia fanpetals higher DM CP characterized digestibility The voluntary intake 0707', 'silage alfalfa Virginia fanpetals higher DM CP characterized digestibility The voluntary intake 0707 organic', 'silage alfalfa Virginia fanpetals higher DM CP characterized digestibility The voluntary intake 0707 organic matter', 'silage alfalfa Virginia fanpetals higher DM CP characterized digestibility The voluntary intake 0707 organic matter OM', 'silage alfalfa Virginia fanpetals higher DM CP characterized digestibility The voluntary intake 0707 organic matter OM 0724', 'silage alfalfa Virginia fanpetals higher DM CP characterized digestibility The voluntary intake 0707 organic matter OM 0724 0861', 'silage alfalfa Virginia fanpetals higher DM CP characterized digestibility The voluntary intake 0707 organic matter OM 0724 0861 NDF', 'silage alfalfa Virginia fanpetals higher DM CP characterized digestibility The voluntary intake 0707 organic matter OM 0724 0861 NDF 0609', 'silage alfalfa Virginia fanpetals higher DM CP characterized digestibility The voluntary intake 0707 organic matter OM 0724 0861 NDF 0609 In', 'silage alfalfa Virginia fanpetals higher DM CP characterized digestibility The voluntary intake 0707 organic matter OM 0724 0861 NDF 0609 In comparison', 'silage alfalfa Virginia fanpetals higher DM CP characterized digestibility The voluntary intake 0707 organic matter OM 0724 0861 NDF 0609 In comparison apparent', 'silage alfalfa Virginia fanpetals higher DM CP characterized digestibility The voluntary intake 0707 organic matter OM 0724 0861 NDF 0609 In comparison apparent nutrients', 'silage alfalfa Virginia fanpetals higher DM CP characterized digestibility The voluntary intake 0707 organic matter OM 0724 0861 NDF 0609 In comparison apparent nutrients significant', 'silage alfalfa Virginia fanpetals higher DM CP characterized digestibility The voluntary intake 0707 organic matter OM 0724 0861 NDF 0609 In comparison apparent nutrients significant difference', 'silage alfalfa Virginia fanpetals higher DM CP characterized digestibility The voluntary intake 0707 organic matter OM 0724 0861 NDF 0609 In comparison apparent nutrients significant difference noted', 'silage alfalfa Virginia fanpetals higher DM CP characterized digestibility The voluntary intake 0707 organic matter OM 0724 0861 NDF 0609 In comparison apparent nutrients significant difference noted significantly', 'silage alfalfa Virginia fanpetals higher DM CP characterized digestibility The voluntary intake 0707 organic matter OM 0724 0861 NDF 0609 In comparison apparent nutrients significant difference noted significantly 14274', 'silage alfalfa Virginia fanpetals higher DM CP characterized digestibility The voluntary intake 0707 organic matter OM 0724 0861 NDF 0609 In comparison apparent nutrients significant difference noted significantly 14274 vs', 'silage alfalfa Virginia fanpetals higher DM CP characterized digestibility The voluntary intake 0707 organic matter OM 0724 0861 NDF 0609 In comparison apparent nutrients significant difference noted significantly 14274 vs 954g', 'silage alfalfa Virginia fanpetals higher DM CP characterized digestibility The voluntary intake 0707 organic matter OM 0724 0861 NDF 0609 In comparison apparent nutrients significant difference noted significantly 14274 vs 954g greatest', 'silage alfalfa Virginia fanpetals higher DM CP characterized digestibility The voluntary intake 0707 organic matter OM 0724 0861 NDF 0609 In comparison apparent nutrients significant difference noted significantly 14274 vs 954g greatest differences', 'silage alfalfa Virginia fanpetals higher DM CP characterized digestibility The voluntary intake 0707 organic matter OM 0724 0861 NDF 0609 In comparison apparent nutrients significant difference noted significantly 14274 vs 954g greatest differences observed', 'silage alfalfa Virginia fanpetals higher DM CP characterized digestibility The voluntary intake 0707 organic matter OM 0724 0861 NDF 0609 In comparison apparent nutrients significant difference noted significantly 14274 vs 954g greatest differences observed 0-2', 'silage alfalfa Virginia fanpetals higher DM CP characterized digestibility The voluntary intake 0707 organic matter OM 0724 0861 NDF 0609 In comparison apparent nutrients significant difference noted significantly 14274 vs 954g greatest differences observed 0-2 8-12h', 'silage alfalfa Virginia fanpetals higher DM CP characterized digestibility The voluntary intake 0707 organic matter OM 0724 0861 NDF 0609 In comparison apparent nutrients significant difference noted significantly 14274 vs 954g greatest differences observed 0-2 8-12h feeding', 'silage alfalfa Virginia fanpetals higher DM CP characterized digestibility The voluntary intake 0707 organic matter OM 0724 0861 NDF 0609 In comparison apparent nutrients significant difference noted significantly 14274 vs 954g greatest differences observed 0-2 8-12h feeding chemical', 'silage alfalfa Virginia fanpetals higher DM CP characterized digestibility The voluntary intake 0707 organic matter OM 0724 0861 NDF 0609 In comparison apparent nutrients significant difference noted significantly 14274 vs 954g greatest differences observed 0-2 8-12h feeding chemical composition', 'silage alfalfa Virginia fanpetals higher DM CP characterized digestibility The voluntary intake 0707 organic matter OM 0724 0861 NDF 0609 In comparison apparent nutrients significant difference noted significantly 14274 vs 954g greatest differences observed 0-2 8-12h feeding chemical composition similar', 'silage alfalfa Virginia fanpetals higher DM CP characterized digestibility The voluntary intake 0707 organic matter OM 0724 0861 NDF 0609 In comparison apparent nutrients significant difference noted significantly 14274 vs 954g greatest differences observed 0-2 8-12h feeding chemical composition similar desirable', 'silage alfalfa Virginia fanpetals higher DM CP characterized digestibility The voluntary intake 0707 organic matter OM 0724 0861 NDF 0609 In comparison apparent nutrients significant difference noted significantly 14274 vs 954g greatest differences observed 0-2 8-12h feeding chemical composition similar desirable fermentation', 'silage alfalfa Virginia fanpetals higher DM CP characterized digestibility The voluntary intake 0707 organic matter OM 0724 0861 NDF 0609 In comparison apparent nutrients significant difference noted significantly 14274 vs 954g greatest differences observed 0-2 8-12h feeding chemical composition similar desirable fermentation pattern', 'silage alfalfa Virginia fanpetals higher DM CP characterized digestibility The voluntary intake 0707 organic matter OM 0724 0861 NDF 0609 In comparison apparent nutrients significant difference noted significantly 14274 vs 954g greatest differences observed 0-2 8-12h feeding chemical composition similar desirable fermentation pattern willingly', 'silage alfalfa Virginia fanpetals higher DM CP characterized digestibility The voluntary intake 0707 organic matter OM 0724 0861 NDF 0609 In comparison apparent nutrients significant difference noted significantly 14274 vs 954g greatest differences observed 0-2 8-12h feeding chemical composition similar desirable fermentation pattern willingly consumed', 'silage alfalfa Virginia fanpetals higher DM CP characterized digestibility The voluntary intake 0707 organic matter OM 0724 0861 NDF 0609 In comparison apparent nutrients significant difference noted significantly 14274 vs 954g greatest differences observed 0-2 8-12h feeding chemical composition similar desirable fermentation pattern willingly consumed rams']"
   ]
  },
  {
   "cell_type": "code",
   "execution_count": 120,
   "id": "0f87679e",
   "metadata": {},
   "outputs": [],
   "source": [
    "#Plot corpus size evolution peer number on keywords\n",
    "data = {\"entryWordSize\":[],\"givenPuliedArticleSize\":[],\"givenCorpusSize\":[]};"
   ]
  },
  {
   "cell_type": "code",
   "execution_count": 121,
   "id": "a9207293",
   "metadata": {},
   "outputs": [],
   "source": [
    "#Recherche des documents suivant une liste de mots clés A & D\n",
    "def search(query, n_articles):\n",
    "\t#print(\"-----------liste de mots ----------\", query)\n",
    "\tresults = []\n",
    "\tEntrez.email = 'biljolefa@gmail.com'\n",
    "\tfor q in query:\n",
    "\t\tdata[\"entryWordSize\"].append(len(q.split()))\n",
    "        \n",
    "\tfor q in query:\n",
    "\t\thandle = Entrez.esearch(db='pubmed', sort='relevance', retmax=str(n_articles), retmode='xml', term=q)\n",
    "\t\tresults.append(Entrez.read(handle))\n",
    "\t\ttime.sleep(1)\n",
    "\treturn results"
   ]
  },
  {
   "cell_type": "code",
   "execution_count": 122,
   "id": "4a580c86",
   "metadata": {},
   "outputs": [],
   "source": [
    "# Charger le résultat de la recherche, les articles trouvés suivant le mot clé\n",
    "def fetch_details(id_list):\n",
    "    ids = ','.join(id_list)\n",
    "    Entrez.email = 'biljolefa@gmail.com'\n",
    "    handle = Entrez.efetch(db='pubmed',\n",
    "                           retmode='xml',\n",
    "                           id=ids)\n",
    "    results = Entrez.read(handle)\n",
    "    return results"
   ]
  },
  {
   "cell_type": "code",
   "execution_count": 123,
   "id": "8ae5d59a",
   "metadata": {},
   "outputs": [],
   "source": [
    "# Recherche et chargement des articles trouvés sur pubmed\n",
    "def load_articles(keyword='fever', n_articles = 100):\n",
    "\tresults = search(keyword, n_articles) # fever\n",
    "\tprint(\"taille result\", len(results))\n",
    "\t#id_list = results['IdList']\n",
    "\t#results = search(keyword, n_articles) # fever\n",
    "\tid_list = []\n",
    "\tfor i in range(0, len(results)):\n",
    "\t\tcount_words = 0\n",
    "\t\t#print(\"-------------------------------------re--------------------------------\", re)\n",
    "\t\tid_list = results[i]['IdList']\n",
    "\t\tdata[\"givenPuliedArticleSize\"].append(len(','.join(id_list).split(\",\")))\n",
    "\t\t#print(\"----------------- id list --------------------\", id_list)\n",
    "\t\tpapers = fetch_details(id_list)\n",
    "\t\t#print(\"paper size\", len(papers))\n",
    "\t\ttry:\n",
    "\t\t\tfor article in papers['PubmedArticle']:\n",
    "\t\t\t\tval = \"\"\n",
    "\t\t\t\t#print(\"-----clefs--------\", article['MedlineCitation']['Article'].keys())\n",
    "\t\t\t\t#articles[paper['MedlineCitation']['Article']['ArticleTitle']] = ','.join(paper['MedlineCitation']['Article']['Abstract']['AbstractText'])\n",
    "\t\t\t\tif 'Abstract' in article['MedlineCitation']['Article'].keys():\n",
    "\t\t\t\t\tval = ','.join(article['MedlineCitation']['Article']['Abstract']['AbstractText'])\n",
    "\t\t\t\t\tprint(\"val\", len(val.split(\" \")))\n",
    "\t\t\t\t\tcount_words = len(val.split(\" \")) + count_words\n",
    "\t\texcept:\n",
    "\t\t\tprint(\"error\")\n",
    "\t\tprint(\"compte\", count_words)\n",
    "\t\tdata[\"givenCorpusSize\"].append(count_words)\n",
    "\t\tprint(\"--------fin article N°\", i)\n",
    "\t#print(articles)\n",
    "\t\tprint(\"--------- dict --------------\", data)\n",
    "        \n",
    "\treturn data"
   ]
  },
  {
   "cell_type": "code",
   "execution_count": 124,
   "id": "e2c2dcc4",
   "metadata": {
    "scrolled": true
   },
   "outputs": [
    {
     "name": "stdout",
     "output_type": "stream",
     "text": [
      "taille result 15\n",
      "val 203\n",
      "val 247\n",
      "val 312\n",
      "val 235\n",
      "val 236\n",
      "val 299\n",
      "val 202\n",
      "val 109\n",
      "val 106\n",
      "compte 1949\n",
      "--------fin article N° 0\n",
      "--------- dict -------------- {'entryWordSize': [1, 2, 3, 4, 5, 6, 7, 8, 9, 10, 11, 12, 13, 14, 15], 'givenPuliedArticleSize': [], 'givenCorpusSize': [1949]}\n",
      "val 203\n",
      "val 247\n",
      "val 235\n",
      "val 312\n",
      "val 236\n",
      "val 299\n",
      "val 202\n",
      "val 109\n",
      "val 203\n",
      "compte 2046\n",
      "--------fin article N° 1\n",
      "--------- dict -------------- {'entryWordSize': [1, 2, 3, 4, 5, 6, 7, 8, 9, 10, 11, 12, 13, 14, 15], 'givenPuliedArticleSize': [], 'givenCorpusSize': [1949, 2046]}\n",
      "val 203\n",
      "val 247\n",
      "val 235\n",
      "val 312\n",
      "val 236\n",
      "val 299\n",
      "val 202\n",
      "val 109\n",
      "val 214\n",
      "compte 2057\n",
      "--------fin article N° 2\n",
      "--------- dict -------------- {'entryWordSize': [1, 2, 3, 4, 5, 6, 7, 8, 9, 10, 11, 12, 13, 14, 15], 'givenPuliedArticleSize': [], 'givenCorpusSize': [1949, 2046, 2057]}\n",
      "val 203\n",
      "val 247\n",
      "val 235\n",
      "val 312\n",
      "val 236\n",
      "val 299\n",
      "val 202\n",
      "val 109\n",
      "val 214\n",
      "compte 2057\n",
      "--------fin article N° 3\n",
      "--------- dict -------------- {'entryWordSize': [1, 2, 3, 4, 5, 6, 7, 8, 9, 10, 11, 12, 13, 14, 15], 'givenPuliedArticleSize': [], 'givenCorpusSize': [1949, 2046, 2057, 2057]}\n",
      "val 247\n",
      "val 236\n",
      "val 312\n",
      "val 202\n",
      "val 109\n",
      "val 255\n",
      "val 270\n",
      "val 292\n",
      "val 390\n",
      "compte 2313\n",
      "--------fin article N° 4\n",
      "--------- dict -------------- {'entryWordSize': [1, 2, 3, 4, 5, 6, 7, 8, 9, 10, 11, 12, 13, 14, 15], 'givenPuliedArticleSize': [], 'givenCorpusSize': [1949, 2046, 2057, 2057, 2313]}\n",
      "val 236\n",
      "val 255\n",
      "val 427\n",
      "val 193\n",
      "val 231\n",
      "val 191\n",
      "val 300\n",
      "val 255\n",
      "val 242\n",
      "val 307\n",
      "compte 2637\n",
      "--------fin article N° 5\n",
      "--------- dict -------------- {'entryWordSize': [1, 2, 3, 4, 5, 6, 7, 8, 9, 10, 11, 12, 13, 14, 15], 'givenPuliedArticleSize': [], 'givenCorpusSize': [1949, 2046, 2057, 2057, 2313, 2637]}\n",
      "val 236\n",
      "val 255\n",
      "val 255\n",
      "val 193\n",
      "val 300\n",
      "val 231\n",
      "val 242\n",
      "val 170\n",
      "val 306\n",
      "val 236\n",
      "compte 2424\n",
      "--------fin article N° 6\n",
      "--------- dict -------------- {'entryWordSize': [1, 2, 3, 4, 5, 6, 7, 8, 9, 10, 11, 12, 13, 14, 15], 'givenPuliedArticleSize': [], 'givenCorpusSize': [1949, 2046, 2057, 2057, 2313, 2637, 2424]}\n",
      "val 236\n",
      "val 255\n",
      "val 193\n",
      "val 231\n",
      "val 236\n",
      "val 228\n",
      "val 291\n",
      "val 401\n",
      "val 285\n",
      "val 244\n",
      "compte 2600\n",
      "--------fin article N° 7\n",
      "--------- dict -------------- {'entryWordSize': [1, 2, 3, 4, 5, 6, 7, 8, 9, 10, 11, 12, 13, 14, 15], 'givenPuliedArticleSize': [], 'givenCorpusSize': [1949, 2046, 2057, 2057, 2313, 2637, 2424, 2600]}\n",
      "val 236\n",
      "val 255\n",
      "val 231\n",
      "val 291\n",
      "val 228\n",
      "val 401\n",
      "val 292\n",
      "val 241\n",
      "val 242\n",
      "val 244\n",
      "compte 2661\n",
      "--------fin article N° 8\n",
      "--------- dict -------------- {'entryWordSize': [1, 2, 3, 4, 5, 6, 7, 8, 9, 10, 11, 12, 13, 14, 15], 'givenPuliedArticleSize': [], 'givenCorpusSize': [1949, 2046, 2057, 2057, 2313, 2637, 2424, 2600, 2661]}\n",
      "val 236\n",
      "val 255\n",
      "val 231\n",
      "val 244\n",
      "val 242\n",
      "val 241\n",
      "val 313\n",
      "val 191\n",
      "val 252\n",
      "val 210\n",
      "compte 2415\n",
      "--------fin article N° 9\n",
      "--------- dict -------------- {'entryWordSize': [1, 2, 3, 4, 5, 6, 7, 8, 9, 10, 11, 12, 13, 14, 15], 'givenPuliedArticleSize': [], 'givenCorpusSize': [1949, 2046, 2057, 2057, 2313, 2637, 2424, 2600, 2661, 2415]}\n",
      "val 231\n",
      "val 242\n",
      "val 250\n",
      "val 244\n",
      "val 210\n",
      "val 198\n",
      "val 368\n",
      "val 240\n",
      "val 200\n",
      "val 474\n",
      "compte 2657\n",
      "--------fin article N° 10\n",
      "--------- dict -------------- {'entryWordSize': [1, 2, 3, 4, 5, 6, 7, 8, 9, 10, 11, 12, 13, 14, 15], 'givenPuliedArticleSize': [], 'givenCorpusSize': [1949, 2046, 2057, 2057, 2313, 2637, 2424, 2600, 2661, 2415, 2657]}\n",
      "val 231\n",
      "val 242\n",
      "val 250\n",
      "val 244\n",
      "val 210\n",
      "val 198\n",
      "val 368\n",
      "val 240\n",
      "val 200\n",
      "val 474\n",
      "compte 2657\n",
      "--------fin article N° 11\n",
      "--------- dict -------------- {'entryWordSize': [1, 2, 3, 4, 5, 6, 7, 8, 9, 10, 11, 12, 13, 14, 15], 'givenPuliedArticleSize': [], 'givenCorpusSize': [1949, 2046, 2057, 2057, 2313, 2637, 2424, 2600, 2661, 2415, 2657, 2657]}\n",
      "val 218\n",
      "val 245\n",
      "compte 463\n",
      "--------fin article N° 12\n",
      "--------- dict -------------- {'entryWordSize': [1, 2, 3, 4, 5, 6, 7, 8, 9, 10, 11, 12, 13, 14, 15], 'givenPuliedArticleSize': [], 'givenCorpusSize': [1949, 2046, 2057, 2057, 2313, 2637, 2424, 2600, 2661, 2415, 2657, 2657, 463]}\n",
      "val 218\n",
      "compte 218\n",
      "--------fin article N° 13\n",
      "--------- dict -------------- {'entryWordSize': [1, 2, 3, 4, 5, 6, 7, 8, 9, 10, 11, 12, 13, 14, 15], 'givenPuliedArticleSize': [], 'givenCorpusSize': [1949, 2046, 2057, 2057, 2313, 2637, 2424, 2600, 2661, 2415, 2657, 2657, 463, 218]}\n",
      "val 218\n",
      "compte 218\n",
      "--------fin article N° 14\n",
      "--------- dict -------------- {'entryWordSize': [1, 2, 3, 4, 5, 6, 7, 8, 9, 10, 11, 12, 13, 14, 15], 'givenPuliedArticleSize': [], 'givenCorpusSize': [1949, 2046, 2057, 2057, 2313, 2637, 2424, 2600, 2661, 2415, 2657, 2657, 463, 218, 218]}\n"
     ]
    },
    {
     "data": {
      "text/plain": [
       "{'entryWordSize': [1, 2, 3, 4, 5, 6, 7, 8, 9, 10, 11, 12, 13, 14, 15],\n",
       " 'givenPuliedArticleSize': [],\n",
       " 'givenCorpusSize': [1949,\n",
       "  2046,\n",
       "  2057,\n",
       "  2057,\n",
       "  2313,\n",
       "  2637,\n",
       "  2424,\n",
       "  2600,\n",
       "  2661,\n",
       "  2415,\n",
       "  2657,\n",
       "  2657,\n",
       "  463,\n",
       "  218,\n",
       "  218]}"
      ]
     },
     "execution_count": 124,
     "metadata": {},
     "output_type": "execute_result"
    }
   ],
   "source": [
    "load_articles(keywords, 10)"
   ]
  },
  {
   "cell_type": "code",
   "execution_count": 127,
   "id": "f54f2f5d",
   "metadata": {},
   "outputs": [
    {
     "name": "stdout",
     "output_type": "stream",
     "text": [
      "{'entryWordSize': [1, 2, 3, 4, 5, 6, 7, 8, 9, 10, 11, 12, 13, 14, 15], 'givenPuliedArticleSize': [], 'givenCorpusSize': [1949, 2046, 2057, 2057, 2313, 2637, 2424, 2600, 2661, 2415, 2657, 2657, 463, 218, 218]}\n"
     ]
    }
   ],
   "source": [
    "print(data)"
   ]
  },
  {
   "cell_type": "code",
   "execution_count": 128,
   "id": "d63e5ca1",
   "metadata": {},
   "outputs": [
    {
     "ename": "ValueError",
     "evalue": "x and y must have same first dimension, but have shapes (15,) and (0,)",
     "output_type": "error",
     "traceback": [
      "\u001b[0;31m---------------------------------------------------------------------------\u001b[0m",
      "\u001b[0;31mValueError\u001b[0m                                Traceback (most recent call last)",
      "\u001b[0;32m/tmp/ipykernel_5121/926837103.py\u001b[0m in \u001b[0;36m<module>\u001b[0;34m\u001b[0m\n\u001b[1;32m      6\u001b[0m \u001b[0mplt\u001b[0m\u001b[0;34m.\u001b[0m\u001b[0mxlabel\u001b[0m\u001b[0;34m(\u001b[0m\u001b[0;34m'nombre de mots en entrée'\u001b[0m\u001b[0;34m)\u001b[0m\u001b[0;34m\u001b[0m\u001b[0;34m\u001b[0m\u001b[0m\n\u001b[1;32m      7\u001b[0m \u001b[0;31m#plt.bar(range(len(data)), values, tick_label=names)\u001b[0m\u001b[0;34m\u001b[0m\u001b[0;34m\u001b[0m\u001b[0;34m\u001b[0m\u001b[0m\n\u001b[0;32m----> 8\u001b[0;31m \u001b[0mplt\u001b[0m\u001b[0;34m.\u001b[0m\u001b[0mplot\u001b[0m\u001b[0;34m(\u001b[0m\u001b[0mvalues_words\u001b[0m\u001b[0;34m,\u001b[0m\u001b[0mvalues_articles\u001b[0m\u001b[0;34m)\u001b[0m\u001b[0;34m\u001b[0m\u001b[0;34m\u001b[0m\u001b[0m\n\u001b[0m\u001b[1;32m      9\u001b[0m \u001b[0mplt\u001b[0m\u001b[0;34m.\u001b[0m\u001b[0mshow\u001b[0m\u001b[0;34m(\u001b[0m\u001b[0;34m)\u001b[0m\u001b[0;34m\u001b[0m\u001b[0;34m\u001b[0m\u001b[0m\n",
      "\u001b[0;32m~/anaconda3/lib/python3.8/site-packages/matplotlib/pyplot.py\u001b[0m in \u001b[0;36mplot\u001b[0;34m(scalex, scaley, data, *args, **kwargs)\u001b[0m\n\u001b[1;32m   2755\u001b[0m \u001b[0;34m@\u001b[0m\u001b[0m_copy_docstring_and_deprecators\u001b[0m\u001b[0;34m(\u001b[0m\u001b[0mAxes\u001b[0m\u001b[0;34m.\u001b[0m\u001b[0mplot\u001b[0m\u001b[0;34m)\u001b[0m\u001b[0;34m\u001b[0m\u001b[0;34m\u001b[0m\u001b[0m\n\u001b[1;32m   2756\u001b[0m \u001b[0;32mdef\u001b[0m \u001b[0mplot\u001b[0m\u001b[0;34m(\u001b[0m\u001b[0;34m*\u001b[0m\u001b[0margs\u001b[0m\u001b[0;34m,\u001b[0m \u001b[0mscalex\u001b[0m\u001b[0;34m=\u001b[0m\u001b[0;32mTrue\u001b[0m\u001b[0;34m,\u001b[0m \u001b[0mscaley\u001b[0m\u001b[0;34m=\u001b[0m\u001b[0;32mTrue\u001b[0m\u001b[0;34m,\u001b[0m \u001b[0mdata\u001b[0m\u001b[0;34m=\u001b[0m\u001b[0;32mNone\u001b[0m\u001b[0;34m,\u001b[0m \u001b[0;34m**\u001b[0m\u001b[0mkwargs\u001b[0m\u001b[0;34m)\u001b[0m\u001b[0;34m:\u001b[0m\u001b[0;34m\u001b[0m\u001b[0;34m\u001b[0m\u001b[0m\n\u001b[0;32m-> 2757\u001b[0;31m     return gca().plot(\n\u001b[0m\u001b[1;32m   2758\u001b[0m         \u001b[0;34m*\u001b[0m\u001b[0margs\u001b[0m\u001b[0;34m,\u001b[0m \u001b[0mscalex\u001b[0m\u001b[0;34m=\u001b[0m\u001b[0mscalex\u001b[0m\u001b[0;34m,\u001b[0m \u001b[0mscaley\u001b[0m\u001b[0;34m=\u001b[0m\u001b[0mscaley\u001b[0m\u001b[0;34m,\u001b[0m\u001b[0;34m\u001b[0m\u001b[0;34m\u001b[0m\u001b[0m\n\u001b[1;32m   2759\u001b[0m         **({\"data\": data} if data is not None else {}), **kwargs)\n",
      "\u001b[0;32m~/anaconda3/lib/python3.8/site-packages/matplotlib/axes/_axes.py\u001b[0m in \u001b[0;36mplot\u001b[0;34m(self, scalex, scaley, data, *args, **kwargs)\u001b[0m\n\u001b[1;32m   1630\u001b[0m         \"\"\"\n\u001b[1;32m   1631\u001b[0m         \u001b[0mkwargs\u001b[0m \u001b[0;34m=\u001b[0m \u001b[0mcbook\u001b[0m\u001b[0;34m.\u001b[0m\u001b[0mnormalize_kwargs\u001b[0m\u001b[0;34m(\u001b[0m\u001b[0mkwargs\u001b[0m\u001b[0;34m,\u001b[0m \u001b[0mmlines\u001b[0m\u001b[0;34m.\u001b[0m\u001b[0mLine2D\u001b[0m\u001b[0;34m)\u001b[0m\u001b[0;34m\u001b[0m\u001b[0;34m\u001b[0m\u001b[0m\n\u001b[0;32m-> 1632\u001b[0;31m         \u001b[0mlines\u001b[0m \u001b[0;34m=\u001b[0m \u001b[0;34m[\u001b[0m\u001b[0;34m*\u001b[0m\u001b[0mself\u001b[0m\u001b[0;34m.\u001b[0m\u001b[0m_get_lines\u001b[0m\u001b[0;34m(\u001b[0m\u001b[0;34m*\u001b[0m\u001b[0margs\u001b[0m\u001b[0;34m,\u001b[0m \u001b[0mdata\u001b[0m\u001b[0;34m=\u001b[0m\u001b[0mdata\u001b[0m\u001b[0;34m,\u001b[0m \u001b[0;34m**\u001b[0m\u001b[0mkwargs\u001b[0m\u001b[0;34m)\u001b[0m\u001b[0;34m]\u001b[0m\u001b[0;34m\u001b[0m\u001b[0;34m\u001b[0m\u001b[0m\n\u001b[0m\u001b[1;32m   1633\u001b[0m         \u001b[0;32mfor\u001b[0m \u001b[0mline\u001b[0m \u001b[0;32min\u001b[0m \u001b[0mlines\u001b[0m\u001b[0;34m:\u001b[0m\u001b[0;34m\u001b[0m\u001b[0;34m\u001b[0m\u001b[0m\n\u001b[1;32m   1634\u001b[0m             \u001b[0mself\u001b[0m\u001b[0;34m.\u001b[0m\u001b[0madd_line\u001b[0m\u001b[0;34m(\u001b[0m\u001b[0mline\u001b[0m\u001b[0;34m)\u001b[0m\u001b[0;34m\u001b[0m\u001b[0;34m\u001b[0m\u001b[0m\n",
      "\u001b[0;32m~/anaconda3/lib/python3.8/site-packages/matplotlib/axes/_base.py\u001b[0m in \u001b[0;36m__call__\u001b[0;34m(self, data, *args, **kwargs)\u001b[0m\n\u001b[1;32m    310\u001b[0m                 \u001b[0mthis\u001b[0m \u001b[0;34m+=\u001b[0m \u001b[0margs\u001b[0m\u001b[0;34m[\u001b[0m\u001b[0;36m0\u001b[0m\u001b[0;34m]\u001b[0m\u001b[0;34m,\u001b[0m\u001b[0;34m\u001b[0m\u001b[0;34m\u001b[0m\u001b[0m\n\u001b[1;32m    311\u001b[0m                 \u001b[0margs\u001b[0m \u001b[0;34m=\u001b[0m \u001b[0margs\u001b[0m\u001b[0;34m[\u001b[0m\u001b[0;36m1\u001b[0m\u001b[0;34m:\u001b[0m\u001b[0;34m]\u001b[0m\u001b[0;34m\u001b[0m\u001b[0;34m\u001b[0m\u001b[0m\n\u001b[0;32m--> 312\u001b[0;31m             \u001b[0;32myield\u001b[0m \u001b[0;32mfrom\u001b[0m \u001b[0mself\u001b[0m\u001b[0;34m.\u001b[0m\u001b[0m_plot_args\u001b[0m\u001b[0;34m(\u001b[0m\u001b[0mthis\u001b[0m\u001b[0;34m,\u001b[0m \u001b[0mkwargs\u001b[0m\u001b[0;34m)\u001b[0m\u001b[0;34m\u001b[0m\u001b[0;34m\u001b[0m\u001b[0m\n\u001b[0m\u001b[1;32m    313\u001b[0m \u001b[0;34m\u001b[0m\u001b[0m\n\u001b[1;32m    314\u001b[0m     \u001b[0;32mdef\u001b[0m \u001b[0mget_next_color\u001b[0m\u001b[0;34m(\u001b[0m\u001b[0mself\u001b[0m\u001b[0;34m)\u001b[0m\u001b[0;34m:\u001b[0m\u001b[0;34m\u001b[0m\u001b[0;34m\u001b[0m\u001b[0m\n",
      "\u001b[0;32m~/anaconda3/lib/python3.8/site-packages/matplotlib/axes/_base.py\u001b[0m in \u001b[0;36m_plot_args\u001b[0;34m(self, tup, kwargs, return_kwargs)\u001b[0m\n\u001b[1;32m    496\u001b[0m \u001b[0;34m\u001b[0m\u001b[0m\n\u001b[1;32m    497\u001b[0m         \u001b[0;32mif\u001b[0m \u001b[0mx\u001b[0m\u001b[0;34m.\u001b[0m\u001b[0mshape\u001b[0m\u001b[0;34m[\u001b[0m\u001b[0;36m0\u001b[0m\u001b[0;34m]\u001b[0m \u001b[0;34m!=\u001b[0m \u001b[0my\u001b[0m\u001b[0;34m.\u001b[0m\u001b[0mshape\u001b[0m\u001b[0;34m[\u001b[0m\u001b[0;36m0\u001b[0m\u001b[0;34m]\u001b[0m\u001b[0;34m:\u001b[0m\u001b[0;34m\u001b[0m\u001b[0;34m\u001b[0m\u001b[0m\n\u001b[0;32m--> 498\u001b[0;31m             raise ValueError(f\"x and y must have same first dimension, but \"\n\u001b[0m\u001b[1;32m    499\u001b[0m                              f\"have shapes {x.shape} and {y.shape}\")\n\u001b[1;32m    500\u001b[0m         \u001b[0;32mif\u001b[0m \u001b[0mx\u001b[0m\u001b[0;34m.\u001b[0m\u001b[0mndim\u001b[0m \u001b[0;34m>\u001b[0m \u001b[0;36m2\u001b[0m \u001b[0;32mor\u001b[0m \u001b[0my\u001b[0m\u001b[0;34m.\u001b[0m\u001b[0mndim\u001b[0m \u001b[0;34m>\u001b[0m \u001b[0;36m2\u001b[0m\u001b[0;34m:\u001b[0m\u001b[0;34m\u001b[0m\u001b[0;34m\u001b[0m\u001b[0m\n",
      "\u001b[0;31mValueError\u001b[0m: x and y must have same first dimension, but have shapes (15,) and (0,)"
     ]
    },
    {
     "data": {
      "image/png": "[encoded data removed]",
      "text/plain": [
       "<Figure size 432x288 with 1 Axes>"
      ]
     },
     "metadata": {
      "needs_background": "light"
     },
     "output_type": "display_data"
    }
   ],
   "source": [
    "names = list(data.keys())\n",
    "values_words = list(data[\"entryWordSize\"])\n",
    "values_articles = list(data[\"givenPuliedArticleSize\"])\n",
    "values_size_corpus = list(data[\"givenCorpusSize\"])\n",
    "plt.ylabel('nombre articles contenant le mot')\n",
    "plt.xlabel('nombre de mots en entrée')\n",
    "#plt.bar(range(len(data)), values, tick_label=names)\n",
    "plt.plot(values_words,values_articles)\n",
    "plt.show()"
   ]
  },
  {
   "cell_type": "code",
   "execution_count": null,
   "id": "8869e489",
   "metadata": {},
   "outputs": [],
   "source": [
    "\n",
    "plt.plot(values_words,values_size_corpus)\n",
    "plt.show()"
   ]
  }
 ],
 "metadata": {
  "kernelspec": {
   "display_name": "Python 3 (ipykernel)",
   "language": "python",
   "name": "python3"
  },
  "language_info": {
   "codemirror_mode": {
    "name": "ipython",
    "version": 3
   },
   "file_extension": ".py",
   "mimetype": "text/x-python",
   "name": "python",
   "nbconvert_exporter": "python",
   "pygments_lexer": "ipython3",
   "version": "3.8.12"
  }
 },
 "nbformat": 4,
 "nbformat_minor": 5
}
